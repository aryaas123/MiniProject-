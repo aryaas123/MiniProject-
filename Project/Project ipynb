import pandas as pd
import numpy as np
import matplotlib.pyplot as plt
from sklearn.ensemble import RandomForestRegressor
from sklearn.model_selection import train_test_split
from sklearn.metrics import mean_squared_error, r2_score
from sklearn.metrics import accuracy_score
import seaborn as sns

#Data collection
gold_dataset=pd.read_excel("dataset.xlsx")
gold_dataset.info()
gold_dataset.head()
gold_dataset.tail()
#clean and preprocess,identifying numeric columns
numeric_cols=['USD_INR','Open','Open','High','Low','Goldrate']
for c in numeric_cols:
    gold_dataset[c]=pd.to_numeric(gold_dataset[c].astype(str).str.replace(',',''),errors='coerce')
gold_dataset.head(10)
gold_dataset.info
# check numbers of NaN values in each column
gold_dataset.isnull().sum()
gold_dataset.isnull().sum().sum()
gold_dataset.dtypes
# Step 3: Extract date features (assuming Date is already datetime64)
gold_dataset['Year'] = gold_dataset['Date'].dt.year
gold_dataset['Month'] = gold_dataset['Date'].dt.month
gold_dataset['Day'] = gold_dataset['Date'].dt.day
#to check missing values
print(gold_dataset.isnull().sum())
# Set plot style
sns.set(style="darkgrid")
plt.figure(figsize=(12, 5))
plt.plot(gold_dataset['Date'], gold_dataset['Goldrate'], color='gold')
plt.title('Gold Rate Over Time')
plt.xlabel('Date')
plt.ylabel('Gold Rate (INR)')
plt.xticks(rotation=45)
plt.tight_layout()
plt.show()
#Scatter plot
plt.figure(figsize=(8, 5))
sns.scatterplot(x='USD_INR', y='Goldrate', data=gold_dataset, color='blue')
plt.title('USDINR vs Gold Rate')
plt.xlabel('USD to INR')
plt.ylabel('Gold Rate')
plt.grid(True)
plt.show()
#Monthly goldrate in boxplot
plt.figure(figsize=(10, 5))
sns.boxplot(x='Month', y='Goldrate', data=gold_dataset, palette='YlOrBr')
plt.title('Monthly Distribution of Gold Prices')
plt.xlabel('Month')
plt.ylabel('Gold Rate')
plt.show()
plt.figure(figsize=(8, 6))
correlation_matrix = gold_dataset[['USD_INR', 'Goldrate', 'Year', 'Month', 'Day']].corr()
sns.heatmap(correlation_matrix, annot=True, cmap='coolwarm', fmt='.2f')
plt.title('Correlation Heatmap')
plt.show()
# Select only the required features
features = ['USD_INR', 'Year', 'Month', 'Day']
target = 'Goldrate'
X = gold_dataset[features]
y = gold_dataset[target]
# Assuming you have your features (X) and target (y)
X_train, X_test, y_train, y_test = train_test_split(
    X, y,
    test_size=0.2,         # 20% test, 80% train
    random_state=42        # Ensures same split every time
)

# Print the sizes
print("Total rows:", len(X))
print("Training rows:", len(X_train))
print("Testing rows:", len(X_test))
# Step 6: Train the Random Forest Model
model = RandomForestRegressor(n_estimators=100, random_state=42)
model.fit(X_train, y_train)
# Step 7: Predict and Evaluate
y_pred = model.predict(X_test)

# Evaluation Metrics
rmse = np.sqrt(mean_squared_error(y_test, y_pred))
r2 = r2_score(y_test, y_pred)
print("\n✅ Model Evaluation:")
print("Root Mean Squared Error (RMSE):", round(rmse,2))
print("R² Score:", round(r2, 4))
# y_test and y_pred already exist
plt.figure(figsize=(10, 5))
plt.plot(y_test.values[:50], label='Actual', marker='o')
plt.plot(y_pred[:50], label='Predicted', marker='x', linestyle='dashed')
plt.title('Actual vs Predicted Gold Price (First 50 Samples)')
plt.xlabel('Sample Index')
plt.ylabel('Gold Rate')
plt.legend()
plt.grid(True)
plt.tight_layout()
plt.show()
# Predict future gold price
future_input = pd.DataFrame({
    'USD_INR': [85.5],
    'Year': [2026],
    'Month': [8],
    'Day': [6]
})
future_prediction = model.predict(future_input)
print("📈 Predicted Gold Price:", round(future_prediction[0], 2))

